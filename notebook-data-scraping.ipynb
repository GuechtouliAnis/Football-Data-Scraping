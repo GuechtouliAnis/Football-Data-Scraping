{
 "cells": [
  {
   "cell_type": "code",
   "execution_count": 1,
   "metadata": {
    "_cell_guid": "b1076dfc-b9ad-4769-8c92-a6c4dae69d19",
    "_uuid": "8f2839f25d086af736a60e9eeb907d3b93b6e0e5",
    "execution": {
     "iopub.execute_input": "2024-06-19T00:56:32.241816Z",
     "iopub.status.busy": "2024-06-19T00:56:32.241379Z",
     "iopub.status.idle": "2024-06-19T00:56:33.650641Z",
     "shell.execute_reply": "2024-06-19T00:56:33.649431Z",
     "shell.execute_reply.started": "2024-06-19T00:56:32.241776Z"
    },
    "trusted": true
   },
   "outputs": [],
   "source": [
    "import requests\n",
    "from bs4 import BeautifulSoup\n",
    "import pandas as pd\n",
    "import time"
   ]
  },
  {
   "cell_type": "code",
   "execution_count": 2,
   "metadata": {
    "execution": {
     "iopub.execute_input": "2024-06-19T00:56:33.653057Z",
     "iopub.status.busy": "2024-06-19T00:56:33.652532Z",
     "iopub.status.idle": "2024-06-19T00:56:33.662994Z",
     "shell.execute_reply": "2024-06-19T00:56:33.661594Z",
     "shell.execute_reply.started": "2024-06-19T00:56:33.653027Z"
    },
    "trusted": true
   },
   "outputs": [],
   "source": [
    "attr = {'Goalkeeping': 'stats_keeper_', 'Goalkeeping_adv': 'stats_keeper_adv_','Defense': 'stats_defense_',\n",
    "        'Shooting': 'stats_shooting_','Passing': 'stats_passing_','Pass_types': 'stats_passing_types_',\n",
    "        'GCA': 'stats_gca_','Possession': 'stats_possession_','Playing_time': 'stats_playing_time_','Misc': 'stats_misc_'}"
   ]
  },
  {
   "cell_type": "code",
   "execution_count": 3,
   "metadata": {
    "execution": {
     "iopub.execute_input": "2024-06-19T00:56:33.665755Z",
     "iopub.status.busy": "2024-06-19T00:56:33.665041Z",
     "iopub.status.idle": "2024-06-19T00:56:33.685661Z",
     "shell.execute_reply": "2024-06-19T00:56:33.684350Z",
     "shell.execute_reply.started": "2024-06-19T00:56:33.665719Z"
    },
    "trusted": true
   },
   "outputs": [],
   "source": [
    "Leagues = {\n",
    "    'Premier League'  :{'id':9,'link':'https://fbref.com/en/comps/9/Premier-League-Stats','league':'Premier League',\n",
    "                        'main_table':'results2023-202491_overall','season':'2023-2024','country':'England'},#Done\n",
    "    \n",
    "    'EFL'             :{'id':10,'link':'https://fbref.com/en/comps/10/Championship-Stats','league':'EFL',\n",
    "                        'main_table':'results2023-2024101_overall','season':'2023-2024','country':'England'},#Done\n",
    "    \n",
    "    'Serie A'         :{'id':11,'link':'https://fbref.com/en/comps/11/Serie-A-Stats','league':'Serie A',\n",
    "                        'main_table':'results2023-2024111_overall','season':'2023-2024','country':'Italy'},#Done\n",
    "    \n",
    "    'La Liga'         :{'id':12,'link':'https://fbref.com/en/comps/12/La-Liga-Stats','league':'La Liga',\n",
    "                        'main_table':'results2023-2024121_overall','season':'2023-2024','country':'Spain'},#Done\n",
    "    \n",
    "    'Ligue 1'         :{'id':13,'link':'https://fbref.com/en/comps/13/Ligue-1-Stats','league':'Ligue 1',\n",
    "                        'main_table':'results2023-2024131_overall','season':'2023-2024','country':'France'},#Done\n",
    "    \n",
    "    'Segunda Division':{'id':17,'link':'https://fbref.com/en/comps/17/Segunda-Division-Stats','league':'Segunda Division',\n",
    "                        'main_table':'results2023-2024171_overall','season':'2023-2024','country':'Spain'},#Done\n",
    "    \n",
    "    'Serie B'         :{'id':18,'link':'https://fbref.com/en/comps/18/Serie-B-Stats','league':'Serie B',\n",
    "                        'main_table':'results2023-2024181_overall','season':'2023-2024','country':'Italy'},#Done\n",
    "    \n",
    "    'Bundesliga'      :{'id':20,'link':'https://fbref.com/en/comps/20/Bundesliga-Stats','league':'Bundesliga',\n",
    "                        'main_table':'results2023-2024201_overall','season':'2023-2024','country':'Germany'},#Done\n",
    "    \n",
    "    'Primera Division':{'id':21,'link':'https://fbref.com/en/comps/21/2023/2023-Primera-Division-Stats','league':'Primera Division',\n",
    "                        'main_table':'results2023211_overall','season':'2023','country':'Argentina'},#Done\n",
    "    \n",
    "    'MLS_east'        :{'id':22,'link':'https://fbref.com/en/comps/22/2023/2023-Major-League-Soccer-Stats','league':'MLS',\n",
    "                        'main_table':'results2023221Eastern-Conference_overall','season':'2023','country':'USA'},#Done\n",
    "    \n",
    "    'MLS_west'        :{'id':22,'link':'https://fbref.com/en/comps/22/2023/2023-Major-League-Soccer-Stats','league':'MLS',\n",
    "                        'main_table':'results2023221Western-Conference_overall','season':'2023','country':'USA'},#Done\n",
    "    \n",
    "    'Eredivisie'      :{'id':23,'link':'https://fbref.com/en/comps/23/Eredivisie-Stats','league':'Eredivisie',\n",
    "                        'main_table':'results2023-2024231_overall','season':'2023-2024','country':'Netherlands'},#Done\n",
    "    \n",
    "    'Brazilian League':{'id':24,'link':'https://fbref.com/en/comps/24/2023/2023-Serie-A-Stats','league':'Brazilian League',\n",
    "                        'main_table':'results2023241_overall','season':'2023','country':'Brazil'},#Done\n",
    "    \n",
    "    'Liga MX'         :{'id':31,'link':'https://fbref.com/en/comps/31/Liga-MX-Stats','league':'Liga MX',\n",
    "                        'main_table':'results2023-2024310_overall','season':'2023-2024','country':'Mexico'},#Done\n",
    "    \n",
    "    'Premeira Liga'   :{'id':32,'link':'https://fbref.com/en/comps/32/Primeira-Liga-Stats','league':'Primeira Liga',\n",
    "                        'main_table':'results2023-2024321_overall','season':'2023-2024','country':'Portugal'},#Done\n",
    "    \n",
    "    '2. Bundesliga'   :{'id':33,'link':'https://fbref.com/en/comps/33/2-Bundesliga-Stats','league':'2. Bundesliga',\n",
    "                        'main_table':'results2023-2024331_overall','season':'2023-2024','country':'Germany'},#Done\n",
    "    \n",
    "    'Pro League'      :{'id':37,'link':'https://fbref.com/en/comps/37/Belgian-Pro-League-Stats','league':'Pro League',\n",
    "                        'main_table':'results2023-2024370_overall','season':'2023-2024','country':'Belgium'},#Done\n",
    "    \n",
    "    'Ligue 2'         :{'id':60,'link':'https://fbref.com/en/comps/60/Ligue-2-Stats','league':'Ligue 2',\n",
    "                        'main_table':'results2023-2024601_overall','season':'2023-2024','country':'France'}#Done\n",
    "}"
   ]
  },
  {
   "cell_type": "code",
   "execution_count": 4,
   "metadata": {
    "execution": {
     "iopub.execute_input": "2024-06-19T00:56:33.689293Z",
     "iopub.status.busy": "2024-06-19T00:56:33.688874Z",
     "iopub.status.idle": "2024-06-19T00:56:33.702069Z",
     "shell.execute_reply": "2024-06-19T00:56:33.700596Z",
     "shell.execute_reply.started": "2024-06-19T00:56:33.689255Z"
    },
    "trusted": true
   },
   "outputs": [],
   "source": [
    "def scrap_clubs_links(league):\n",
    "    Clubs = {}\n",
    "    response = requests.get(league['link'])\n",
    "    if response.status_code == 200:\n",
    "        soup = BeautifulSoup(response.text, 'html.parser')\n",
    "        table = soup.select(f'#{league[\"main_table\"]} tbody')\n",
    "        if table:\n",
    "            table_html = str(table[0])\n",
    "            table_soup = BeautifulSoup(table_html, 'html.parser')\n",
    "            clubs = table_soup.find_all('tr')\n",
    "            for row in clubs:\n",
    "                Club = row.find('td', {'data-stat': 'team'}).text.strip()\n",
    "                link = 'https://fbref.com/' + row.find('a')['href']\n",
    "                Clubs[Club] = link\n",
    "        else:\n",
    "            print(\"Table not found on the page.\")\n",
    "    else:\n",
    "        print(\"Failed to retrieve data. Status code:\", response.status_code)\n",
    "    return Clubs"
   ]
  },
  {
   "cell_type": "code",
   "execution_count": 5,
   "metadata": {
    "_kg_hide-input": false,
    "execution": {
     "iopub.execute_input": "2024-06-19T00:56:33.703947Z",
     "iopub.status.busy": "2024-06-19T00:56:33.703564Z",
     "iopub.status.idle": "2024-06-19T00:56:33.715126Z",
     "shell.execute_reply": "2024-06-19T00:56:33.713977Z",
     "shell.execute_reply.started": "2024-06-19T00:56:33.703912Z"
    },
    "trusted": true
   },
   "outputs": [],
   "source": [
    "def Scrap (table, club,keys,league):\n",
    "    if table:\n",
    "        table_html = str(table[0])\n",
    "        table_soup = BeautifulSoup(table_html, 'html.parser')\n",
    "        player_rows = table_soup.find_all('tr')\n",
    "        player_data = []\n",
    "        for row in player_rows:\n",
    "            player_dict={}\n",
    "            for key in keys:\n",
    "                if key == 'club':\n",
    "                    player_dict[key] = club\n",
    "                elif key == 'league':\n",
    "                    player_dict[key] = league\n",
    "                elif key == 'player':\n",
    "                    player_dict[key] = row.find('th', {'data-stat': key}).text.strip()\n",
    "                elif key == 'nationality':\n",
    "                    player_dict[key] = row.find('td', {'data-stat': key}).text.strip()[-3:]\n",
    "                else:\n",
    "                    player_dict[key] = row.find('td', {'data-stat': key}).text.strip()\n",
    "            player_data.append(player_dict)\n",
    "        df = pd.DataFrame(player_data)\n",
    "    else:\n",
    "        print(\"Table not found on the page.\")\n",
    "    return df"
   ]
  },
  {
   "cell_type": "code",
   "execution_count": 6,
   "metadata": {
    "execution": {
     "iopub.execute_input": "2024-06-19T00:56:33.716878Z",
     "iopub.status.busy": "2024-06-19T00:56:33.716532Z",
     "iopub.status.idle": "2024-06-19T00:56:33.729175Z",
     "shell.execute_reply": "2024-06-19T00:56:33.728029Z",
     "shell.execute_reply.started": "2024-06-19T00:56:33.716851Z"
    },
    "trusted": true
   },
   "outputs": [],
   "source": [
    "def Scrap_ds(response,j):\n",
    "    soup = BeautifulSoup(response.text,'html.parser')\n",
    "    table = soup.select(f'table#{j} tbody')\n",
    "    table_html = str(table[0])\n",
    "    table_soup = BeautifulSoup(table_html, 'html.parser')\n",
    "    ds = table_soup.find_all('tr')\n",
    "    data_stat_values = [tag.get('data-stat') for tag in ds[0].find_all(['td', 'th'])]\n",
    "    data_stat_values.insert(4, 'club')\n",
    "    data_stat_values.insert(5, 'league')\n",
    "    data_stat_values.pop()\n",
    "    return data_stat_values"
   ]
  },
  {
   "cell_type": "code",
   "execution_count": 7,
   "metadata": {
    "execution": {
     "iopub.execute_input": "2024-06-19T00:56:33.731337Z",
     "iopub.status.busy": "2024-06-19T00:56:33.730962Z",
     "iopub.status.idle": "2024-06-19T00:56:33.744075Z",
     "shell.execute_reply": "2024-06-19T00:56:33.743018Z",
     "shell.execute_reply.started": "2024-06-19T00:56:33.731309Z"
    },
    "trusted": true
   },
   "outputs": [],
   "source": [
    "def Scrap_data(league):\n",
    "    Clubs = scrap_clubs_links(league)\n",
    "    data = {i: [] for i in attr.keys()}\n",
    "    ds = {att: None for att in attr.keys()}  # Initialize ds with None values\n",
    "    \n",
    "    # Initialize ds outside the main loop\n",
    "    for att, st_id in attr.items():\n",
    "        ds[att] = Scrap_ds(requests.get(list(Clubs.values())[0]), st_id + str(league['id']))\n",
    "    \n",
    "    cpt = 1\n",
    "    for club, link in Clubs.items():\n",
    "        response = requests.get(link)\n",
    "        if response.status_code == 200:\n",
    "            soup = BeautifulSoup(response.text, 'html.parser')\n",
    "            for att, st_id in attr.items():\n",
    "                table = soup.select(f'table#{st_id+str(league[\"id\"])} tbody')\n",
    "                data[att].append(Scrap(table, club, ds[att], league['league']))\n",
    "            print(f'{cpt} - {club} data scraped successfully')\n",
    "            cpt += 1\n",
    "            time.sleep(7)\n",
    "        else:\n",
    "            print('status code : ', response.status_code)\n",
    "            break\n",
    "    return data\n"
   ]
  },
  {
   "cell_type": "code",
   "execution_count": 8,
   "metadata": {
    "execution": {
     "iopub.execute_input": "2024-06-19T00:56:43.085965Z",
     "iopub.status.busy": "2024-06-19T00:56:43.085435Z",
     "iopub.status.idle": "2024-06-19T01:02:06.107348Z",
     "shell.execute_reply": "2024-06-19T01:02:06.106113Z",
     "shell.execute_reply.started": "2024-06-19T00:56:43.085928Z"
    },
    "trusted": true
   },
   "outputs": [
    {
     "name": "stdout",
     "output_type": "stream",
     "text": [
      "1 - Leicester City data scraped successfully\n",
      "2 - Ipswich Town data scraped successfully\n",
      "3 - Leeds United data scraped successfully\n",
      "4 - Southampton data scraped successfully\n",
      "5 - West Brom data scraped successfully\n",
      "6 - Norwich City data scraped successfully\n",
      "7 - Hull City data scraped successfully\n",
      "8 - Middlesbrough data scraped successfully\n",
      "9 - Coventry City data scraped successfully\n",
      "10 - Preston data scraped successfully\n",
      "11 - Bristol City data scraped successfully\n",
      "12 - Cardiff City data scraped successfully\n",
      "13 - Millwall data scraped successfully\n",
      "14 - Swansea City data scraped successfully\n",
      "15 - Watford data scraped successfully\n",
      "16 - Sunderland data scraped successfully\n",
      "17 - Stoke City data scraped successfully\n",
      "18 - QPR data scraped successfully\n",
      "19 - Blackburn data scraped successfully\n",
      "20 - Sheffield Weds data scraped successfully\n",
      "21 - Plymouth Argyle data scraped successfully\n",
      "22 - Birmingham City data scraped successfully\n",
      "23 - Huddersfield data scraped successfully\n",
      "24 - Rotherham Utd data scraped successfully\n"
     ]
    }
   ],
   "source": [
    "Data = Scrap_data(Leagues['EFL'])"
   ]
  },
  {
   "cell_type": "code",
   "execution_count": 10,
   "metadata": {
    "execution": {
     "iopub.execute_input": "2024-06-19T01:02:14.085280Z",
     "iopub.status.busy": "2024-06-19T01:02:14.084185Z",
     "iopub.status.idle": "2024-06-19T01:02:14.109607Z",
     "shell.execute_reply": "2024-06-19T01:02:14.108238Z",
     "shell.execute_reply.started": "2024-06-19T01:02:14.085239Z"
    },
    "trusted": true
   },
   "outputs": [
    {
     "data": {
      "text/html": [
       "<div>\n",
       "<style scoped>\n",
       "    .dataframe tbody tr th:only-of-type {\n",
       "        vertical-align: middle;\n",
       "    }\n",
       "\n",
       "    .dataframe tbody tr th {\n",
       "        vertical-align: top;\n",
       "    }\n",
       "\n",
       "    .dataframe thead th {\n",
       "        text-align: right;\n",
       "    }\n",
       "</style>\n",
       "<table border=\"1\" class=\"dataframe\">\n",
       "  <thead>\n",
       "    <tr style=\"text-align: right;\">\n",
       "      <th></th>\n",
       "      <th>player</th>\n",
       "      <th>nationality</th>\n",
       "      <th>position</th>\n",
       "      <th>age</th>\n",
       "      <th>club</th>\n",
       "      <th>league</th>\n",
       "      <th>gk_games</th>\n",
       "      <th>gk_games_starts</th>\n",
       "      <th>gk_minutes</th>\n",
       "      <th>minutes_90s</th>\n",
       "      <th>...</th>\n",
       "      <th>gk_wins</th>\n",
       "      <th>gk_ties</th>\n",
       "      <th>gk_losses</th>\n",
       "      <th>gk_clean_sheets</th>\n",
       "      <th>gk_clean_sheets_pct</th>\n",
       "      <th>gk_pens_att</th>\n",
       "      <th>gk_pens_allowed</th>\n",
       "      <th>gk_pens_saved</th>\n",
       "      <th>gk_pens_missed</th>\n",
       "      <th>gk_pens_save_pct</th>\n",
       "    </tr>\n",
       "  </thead>\n",
       "  <tbody>\n",
       "    <tr>\n",
       "      <th>0</th>\n",
       "      <td>Mads Hermansen</td>\n",
       "      <td>DEN</td>\n",
       "      <td>GK</td>\n",
       "      <td>23</td>\n",
       "      <td>Leicester City</td>\n",
       "      <td>EFL</td>\n",
       "      <td>44</td>\n",
       "      <td>44</td>\n",
       "      <td>3,960</td>\n",
       "      <td>44.0</td>\n",
       "      <td>...</td>\n",
       "      <td>29</td>\n",
       "      <td>4</td>\n",
       "      <td>11</td>\n",
       "      <td>13</td>\n",
       "      <td>29.5</td>\n",
       "      <td>1</td>\n",
       "      <td>0</td>\n",
       "      <td>1</td>\n",
       "      <td>0</td>\n",
       "      <td>100.0</td>\n",
       "    </tr>\n",
       "    <tr>\n",
       "      <th>1</th>\n",
       "      <td>Jakub Stolarczyk</td>\n",
       "      <td>POL</td>\n",
       "      <td>GK</td>\n",
       "      <td>22</td>\n",
       "      <td>Leicester City</td>\n",
       "      <td>EFL</td>\n",
       "      <td>2</td>\n",
       "      <td>2</td>\n",
       "      <td>180</td>\n",
       "      <td>2.0</td>\n",
       "      <td>...</td>\n",
       "      <td>2</td>\n",
       "      <td>0</td>\n",
       "      <td>0</td>\n",
       "      <td>2</td>\n",
       "      <td>100.0</td>\n",
       "      <td>0</td>\n",
       "      <td>0</td>\n",
       "      <td>0</td>\n",
       "      <td>0</td>\n",
       "      <td></td>\n",
       "    </tr>\n",
       "  </tbody>\n",
       "</table>\n",
       "<p>2 rows × 25 columns</p>\n",
       "</div>"
      ],
      "text/plain": [
       "             player nationality position age            club league gk_games  \\\n",
       "0    Mads Hermansen         DEN       GK  23  Leicester City    EFL       44   \n",
       "1  Jakub Stolarczyk         POL       GK  22  Leicester City    EFL        2   \n",
       "\n",
       "  gk_games_starts gk_minutes minutes_90s  ... gk_wins gk_ties gk_losses  \\\n",
       "0              44      3,960        44.0  ...      29       4        11   \n",
       "1               2        180         2.0  ...       2       0         0   \n",
       "\n",
       "  gk_clean_sheets gk_clean_sheets_pct gk_pens_att gk_pens_allowed  \\\n",
       "0              13                29.5           1               0   \n",
       "1               2               100.0           0               0   \n",
       "\n",
       "  gk_pens_saved gk_pens_missed gk_pens_save_pct  \n",
       "0             1              0            100.0  \n",
       "1             0              0                   \n",
       "\n",
       "[2 rows x 25 columns]"
      ]
     },
     "execution_count": 10,
     "metadata": {},
     "output_type": "execute_result"
    }
   ],
   "source": [
    "Data['Goalkeeping'][0].head()"
   ]
  },
  {
   "cell_type": "code",
   "execution_count": 11,
   "metadata": {
    "execution": {
     "iopub.execute_input": "2024-06-19T01:02:22.327692Z",
     "iopub.status.busy": "2024-06-19T01:02:22.326533Z",
     "iopub.status.idle": "2024-06-19T01:02:22.333288Z",
     "shell.execute_reply": "2024-06-19T01:02:22.332023Z",
     "shell.execute_reply.started": "2024-06-19T01:02:22.327643Z"
    },
    "trusted": true
   },
   "outputs": [],
   "source": [
    "# Dictionary that will host the concatenated dataframes\n",
    "total_data = {}"
   ]
  },
  {
   "cell_type": "code",
   "execution_count": 12,
   "metadata": {
    "execution": {
     "iopub.execute_input": "2024-06-19T01:02:24.458849Z",
     "iopub.status.busy": "2024-06-19T01:02:24.458390Z",
     "iopub.status.idle": "2024-06-19T01:02:24.485705Z",
     "shell.execute_reply": "2024-06-19T01:02:24.484366Z",
     "shell.execute_reply.started": "2024-06-19T01:02:24.458818Z"
    },
    "trusted": true
   },
   "outputs": [],
   "source": [
    "for i,j in Data.items():\n",
    "    total_data[i] = pd.concat(j, ignore_index=True)"
   ]
  },
  {
   "cell_type": "code",
   "execution_count": 13,
   "metadata": {
    "execution": {
     "iopub.execute_input": "2024-06-19T01:02:25.449792Z",
     "iopub.status.busy": "2024-06-19T01:02:25.449003Z",
     "iopub.status.idle": "2024-06-19T01:02:25.467111Z",
     "shell.execute_reply": "2024-06-19T01:02:25.465945Z",
     "shell.execute_reply.started": "2024-06-19T01:02:25.449754Z"
    },
    "trusted": true
   },
   "outputs": [
    {
     "name": "stdout",
     "output_type": "stream",
     "text": [
      "The column has duplicate values. They are:\n",
      "138          Jeremy Sarmiento\n",
      "219             Sam Greenwood\n",
      "224               Luke Ayling\n",
      "312    Taylor Gardner-Hickman\n",
      "318           Andreas Weimann\n",
      "319               Scott Twine\n",
      "406       Przemysław Płacheta\n",
      "410                Joël Piroe\n",
      "459           Leo Fuhr Hjelde\n",
      "486              Lynden Gooch\n",
      "508                Josh Tymon\n",
      "559              Lewis Travis\n",
      "560            Kyle McFadzean\n",
      "566               Niall Ennis\n",
      "567               Yasin Ayari\n",
      "589                  Ike Ugbo\n",
      "596          Ian Carlo Poveda\n",
      "598              John Buckley\n",
      "604         Kristian Pedersen\n",
      "616                 Finn Azaz\n",
      "622               Luke Cundle\n",
      "626               Darko Gyabi\n",
      "628              Adam Forshaw\n",
      "647               Cody Drameh\n",
      "658             Andre Dozzell\n",
      "660            Alex Pritchard\n",
      "689               Rhys Healey\n",
      "708         Cameron Humphreys\n",
      "715            Andy Rinomhota\n",
      "728                 Ben Wiles\n",
      "Name: player, dtype: object\n"
     ]
    }
   ],
   "source": [
    "# Checking for dupliates\n",
    "duplicates = total_data['Passing']['player'].duplicated()\n",
    "\n",
    "if duplicates.any():\n",
    "    print(\"The column has duplicate values. They are:\")\n",
    "    print(total_data['Passing'][duplicates]['player'])\n",
    "else:\n",
    "    print(\"The column does not have any duplicate values.\")"
   ]
  },
  {
   "cell_type": "code",
   "execution_count": 14,
   "metadata": {
    "execution": {
     "iopub.execute_input": "2024-06-19T01:02:39.104665Z",
     "iopub.status.busy": "2024-06-19T01:02:39.104229Z",
     "iopub.status.idle": "2024-06-19T01:02:39.139708Z",
     "shell.execute_reply": "2024-06-19T01:02:39.138588Z",
     "shell.execute_reply.started": "2024-06-19T01:02:39.104630Z"
    },
    "trusted": true
   },
   "outputs": [
    {
     "data": {
      "text/html": [
       "<div>\n",
       "<style scoped>\n",
       "    .dataframe tbody tr th:only-of-type {\n",
       "        vertical-align: middle;\n",
       "    }\n",
       "\n",
       "    .dataframe tbody tr th {\n",
       "        vertical-align: top;\n",
       "    }\n",
       "\n",
       "    .dataframe thead th {\n",
       "        text-align: right;\n",
       "    }\n",
       "</style>\n",
       "<table border=\"1\" class=\"dataframe\">\n",
       "  <thead>\n",
       "    <tr style=\"text-align: right;\">\n",
       "      <th></th>\n",
       "      <th>player</th>\n",
       "      <th>nationality</th>\n",
       "      <th>position</th>\n",
       "      <th>age</th>\n",
       "      <th>club</th>\n",
       "      <th>league</th>\n",
       "      <th>minutes_90s</th>\n",
       "      <th>passes_completed</th>\n",
       "      <th>passes</th>\n",
       "      <th>passes_pct</th>\n",
       "      <th>...</th>\n",
       "      <th>passes_pct_long</th>\n",
       "      <th>assists</th>\n",
       "      <th>xg_assist</th>\n",
       "      <th>pass_xa</th>\n",
       "      <th>xg_assist_net</th>\n",
       "      <th>assisted_shots</th>\n",
       "      <th>passes_into_final_third</th>\n",
       "      <th>passes_into_penalty_area</th>\n",
       "      <th>crosses_into_penalty_area</th>\n",
       "      <th>progressive_passes</th>\n",
       "    </tr>\n",
       "  </thead>\n",
       "  <tbody>\n",
       "    <tr>\n",
       "      <th>46</th>\n",
       "      <td>Jeremy Sarmiento</td>\n",
       "      <td>ECU</td>\n",
       "      <td>FW</td>\n",
       "      <td>21</td>\n",
       "      <td>Ipswich Town</td>\n",
       "      <td>EFL</td>\n",
       "      <td>7.1</td>\n",
       "      <td>124</td>\n",
       "      <td>170</td>\n",
       "      <td>72.9</td>\n",
       "      <td>...</td>\n",
       "      <td>64.7</td>\n",
       "      <td>1</td>\n",
       "      <td>1.4</td>\n",
       "      <td>0.9</td>\n",
       "      <td>-0.4</td>\n",
       "      <td>13</td>\n",
       "      <td>14</td>\n",
       "      <td>5</td>\n",
       "      <td>1</td>\n",
       "      <td>22</td>\n",
       "    </tr>\n",
       "    <tr>\n",
       "      <th>138</th>\n",
       "      <td>Jeremy Sarmiento</td>\n",
       "      <td>ECU</td>\n",
       "      <td>FW,MF</td>\n",
       "      <td>21</td>\n",
       "      <td>West Brom</td>\n",
       "      <td>EFL</td>\n",
       "      <td>8.1</td>\n",
       "      <td>168</td>\n",
       "      <td>230</td>\n",
       "      <td>73.0</td>\n",
       "      <td>...</td>\n",
       "      <td>53.3</td>\n",
       "      <td>0</td>\n",
       "      <td>0.7</td>\n",
       "      <td>0.9</td>\n",
       "      <td>-0.7</td>\n",
       "      <td>7</td>\n",
       "      <td>11</td>\n",
       "      <td>11</td>\n",
       "      <td>4</td>\n",
       "      <td>17</td>\n",
       "    </tr>\n",
       "  </tbody>\n",
       "</table>\n",
       "<p>2 rows × 30 columns</p>\n",
       "</div>"
      ],
      "text/plain": [
       "               player nationality position age          club league  \\\n",
       "46   Jeremy Sarmiento         ECU       FW  21  Ipswich Town    EFL   \n",
       "138  Jeremy Sarmiento         ECU    FW,MF  21     West Brom    EFL   \n",
       "\n",
       "    minutes_90s passes_completed passes passes_pct  ... passes_pct_long  \\\n",
       "46          7.1              124    170       72.9  ...            64.7   \n",
       "138         8.1              168    230       73.0  ...            53.3   \n",
       "\n",
       "    assists xg_assist pass_xa xg_assist_net assisted_shots  \\\n",
       "46        1       1.4     0.9          -0.4             13   \n",
       "138       0       0.7     0.9          -0.7              7   \n",
       "\n",
       "    passes_into_final_third passes_into_penalty_area  \\\n",
       "46                       14                        5   \n",
       "138                      11                       11   \n",
       "\n",
       "    crosses_into_penalty_area progressive_passes  \n",
       "46                          1                 22  \n",
       "138                         4                 17  \n",
       "\n",
       "[2 rows x 30 columns]"
      ]
     },
     "execution_count": 14,
     "metadata": {},
     "output_type": "execute_result"
    }
   ],
   "source": [
    "#These duplicates are for players' transfers during the season\n",
    "total_data['Passing'][total_data['Passing']['player']=='Jeremy Sarmiento']"
   ]
  },
  {
   "cell_type": "code",
   "execution_count": 15,
   "metadata": {
    "execution": {
     "iopub.execute_input": "2024-06-19T01:02:46.199492Z",
     "iopub.status.busy": "2024-06-19T01:02:46.199076Z",
     "iopub.status.idle": "2024-06-19T01:02:46.293671Z",
     "shell.execute_reply": "2024-06-19T01:02:46.292134Z",
     "shell.execute_reply.started": "2024-06-19T01:02:46.199452Z"
    },
    "trusted": true
   },
   "outputs": [],
   "source": [
    "# Exporting the scrapped data into csv files\n",
    "for i in total_data.keys():\n",
    "    total_data[i].to_csv(i+\"_EFL_23_24.csv\", index=False)"
   ]
  },
  {
   "cell_type": "code",
   "execution_count": 26,
   "metadata": {
    "execution": {
     "iopub.execute_input": "2024-06-19T00:54:59.763410Z",
     "iopub.status.busy": "2024-06-19T00:54:59.762955Z",
     "iopub.status.idle": "2024-06-19T00:54:59.770106Z",
     "shell.execute_reply": "2024-06-19T00:54:59.769076Z",
     "shell.execute_reply.started": "2024-06-19T00:54:59.763377Z"
    },
    "trusted": true
   },
   "outputs": [],
   "source": [
    "import os\n",
    "import glob\n",
    "#To empty the returned files\n",
    "\n",
    "files = glob.glob('/kaggle/working/*')\n",
    "for f in files:\n",
    "    os.remove(f)"
   ]
  }
 ],
 "metadata": {
  "kaggle": {
   "accelerator": "none",
   "dataSources": [],
   "dockerImageVersionId": 30646,
   "isGpuEnabled": false,
   "isInternetEnabled": true,
   "language": "python",
   "sourceType": "notebook"
  },
  "kernelspec": {
   "display_name": "Python 3",
   "language": "python",
   "name": "python3"
  },
  "language_info": {
   "codemirror_mode": {
    "name": "ipython",
    "version": 3
   },
   "file_extension": ".py",
   "mimetype": "text/x-python",
   "name": "python",
   "nbconvert_exporter": "python",
   "pygments_lexer": "ipython3",
   "version": "3.10.13"
  }
 },
 "nbformat": 4,
 "nbformat_minor": 4
}
